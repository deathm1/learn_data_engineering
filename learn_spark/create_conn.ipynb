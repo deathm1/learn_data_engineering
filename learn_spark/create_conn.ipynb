{
 "cells": [
  {
   "cell_type": "markdown",
   "metadata": {},
   "source": [
    "# Importing Libraries"
   ]
  },
  {
   "cell_type": "code",
   "execution_count": 21,
   "metadata": {},
   "outputs": [],
   "source": [
    "from datetime import datetime, date\n",
    "from pyspark.sql import SparkSession\n",
    "from pyspark.sql import Row"
   ]
  },
  {
   "cell_type": "markdown",
   "metadata": {},
   "source": [
    "# Create Spark Session"
   ]
  },
  {
   "cell_type": "code",
   "execution_count": 22,
   "metadata": {},
   "outputs": [],
   "source": [
    "spark = SparkSession.builder.getOrCreate()"
   ]
  },
  {
   "cell_type": "code",
   "execution_count": 23,
   "metadata": {},
   "outputs": [
    {
     "name": "stdout",
     "output_type": "stream",
     "text": [
      "+---+---+-------+----------+-------------------+\n",
      "|  a|  b|      c|         d|                  e|\n",
      "+---+---+-------+----------+-------------------+\n",
      "|  1|2.0|string1|2000-01-01|2000-01-01 12:00:00|\n",
      "|  2|3.0|string2|2000-02-01|2000-01-02 12:00:00|\n",
      "|  4|5.0|string3|2000-03-01|2000-01-03 12:00:00|\n",
      "+---+---+-------+----------+-------------------+\n",
      "\n"
     ]
    }
   ],
   "source": [
    "df = spark.createDataFrame([\n",
    "    Row(a=1, b=2., c='string1', d=date(2000, 1, 1), e=datetime(2000, 1, 1, 12, 0)),\n",
    "    Row(a=2, b=3., c='string2', d=date(2000, 2, 1), e=datetime(2000, 1, 2, 12, 0)),\n",
    "    Row(a=4, b=5., c='string3', d=date(2000, 3, 1), e=datetime(2000, 1, 3, 12, 0))\n",
    "])\n",
    "df.show()"
   ]
  },
  {
   "cell_type": "code",
   "execution_count": 24,
   "metadata": {},
   "outputs": [
    {
     "name": "stdout",
     "output_type": "stream",
     "text": [
      "+------------------+------------------+---------------+--------------------+-------+----------+------------+---------+------------+------------------+------------------+\n",
      "|        circlename|        regionname|   divisionname|          officename|pincode|officetype|    delivery| district|   statename|          latitude|         longitude|\n",
      "+------------------+------------------+---------------+--------------------+-------+----------+------------+---------+------------+------------------+------------------+\n",
      "|Chattisgarh Circle|DivReportingCircle|Bastar Division|     Choteamabal B.O| 494224|        BO|    Delivery|KONDAGAON|CHHATTISGARH|19.173200000000001|81.902000000000001|\n",
      "|Chattisgarh Circle|DivReportingCircle|Bastar Division|       Khandsara B.O| 494224|        BO|    Delivery|KONDAGAON|CHHATTISGARH|19.142299999999999|81.921400000000006|\n",
      "|Chattisgarh Circle|DivReportingCircle|Bastar Division|        Chargaon B.O| 494224|        BO|    Delivery|KONDAGAON|CHHATTISGARH|19.513999999999999|81.920699999999997|\n",
      "|Chattisgarh Circle|DivReportingCircle|Bastar Division|        Bareguda B.O| 494446|        BO|    Delivery|   RAIPUR|CHHATTISGARH|             18.91|             80.30|\n",
      "|Chattisgarh Circle|DivReportingCircle|Bastar Division|       Tarlaguda B.O| 494446|        BO|    Delivery|   RAIPUR|CHHATTISGARH|             18.61|             80.34|\n",
      "|Chattisgarh Circle|DivReportingCircle|Bastar Division|        ARJUNALI B.O| 494446|        BO|    Delivery|   RAIPUR|CHHATTISGARH|18.850999999999999|80.348039999999997|\n",
      "|Chattisgarh Circle|DivReportingCircle|Bastar Division|           Etpal B.O| 494444|        BO|    Delivery|   RAIPUR|CHHATTISGARH|             18.83|             80.76|\n",
      "|Chattisgarh Circle|DivReportingCircle|Bastar Division|          Pusnar B.O| 494444|        BO|    Delivery|   RAIPUR|CHHATTISGARH|             18.73|             80.95|\n",
      "|Chattisgarh Circle|DivReportingCircle|Bastar Division|        Papanpal B.O| 494444|        BO|    Delivery|   RAIPUR|CHHATTISGARH|             18.88|             80.77|\n",
      "|Chattisgarh Circle|DivReportingCircle|Bastar Division|    Peddakodepal B.O| 494444|        BO|    Delivery|   RAIPUR|CHHATTISGARH|             16.29|             78.36|\n",
      "|Chattisgarh Circle|DivReportingCircle|Bastar Division|         KADENAR B.O| 494444|        BO|    Delivery|   RAIPUR|CHHATTISGARH|18.702000000000002|80.688999999999993|\n",
      "|Chattisgarh Circle|DivReportingCircle|Bastar Division|         MANKELI B.O| 494444|        BO|    Delivery|   RAIPUR|CHHATTISGARH|            18.791|80.811000000000007|\n",
      "|Chattisgarh Circle|DivReportingCircle|Bastar Division|         METAPAL B.O| 494444|        BO|    Delivery|   RAIPUR|CHHATTISGARH|18.768999999999998|80.841999999999999|\n",
      "|Chattisgarh Circle|DivReportingCircle|Bastar Division|         MUSALUR B.O| 494444|        BO|    Delivery|   RAIPUR|CHHATTISGARH|18.731999999999999|80.820999999999998|\n",
      "|Chattisgarh Circle|DivReportingCircle|Bastar Division|        NUKANPAL B.O| 494444|        BO|    Delivery|   RAIPUR|CHHATTISGARH|            18.692|80.846000000000004|\n",
      "|Chattisgarh Circle|DivReportingCircle|Bastar Division|          PALNAR B.O| 494444|        BO|    Delivery|   RAIPUR|CHHATTISGARH|18.873999999999999|80.820999999999998|\n",
      "|Chattisgarh Circle|DivReportingCircle|Bastar Division|       PODAKORMA B.O| 494444|        BO|    Delivery|   RAIPUR|CHHATTISGARH|            18.791|80.813999999999993|\n",
      "|Chattisgarh Circle|DivReportingCircle|Bastar Division|      SANTOSHPUR B.O| 494444|        BO|    Delivery|   RAIPUR|CHHATTISGARH|            18.782|80.677999999999997|\n",
      "|Chattisgarh Circle|DivReportingCircle|Bastar Division|           TODKA B.O| 494444|        BO|    Delivery|   RAIPUR|CHHATTISGARH|18.765000000000001|80.921000000000006|\n",
      "|Chattisgarh Circle|DivReportingCircle|Bastar Division|       Kawadgaon B.O| 494449|        BO|    Delivery|DANTEWADA|CHHATTISGARH|18.899999999999999|81.510000000000005|\n",
      "|Chattisgarh Circle|DivReportingCircle|Bastar Division|         Matenar B.O| 494449|        BO|    Delivery|DANTEWADA|CHHATTISGARH|             18.84|             81.41|\n",
      "|Chattisgarh Circle|DivReportingCircle|Bastar Division|         Pondoom B.O| 494449|        BO|    Delivery|DANTEWADA|CHHATTISGARH|         18.889804|         81.347745|\n",
      "|Chattisgarh Circle|DivReportingCircle|Bastar Division|          Pratapgiri| 494449|        BO|    Delivery|DANTEWADA|CHHATTISGARH|18.739080000000001|81.661180000000002|\n",
      "|Chattisgarh Circle|DivReportingCircle|Bastar Division|       Singanpur B.O| 494001|        BO|Non Delivery|   RAIPUR|CHHATTISGARH|         20.028790|         81.576094|\n",
      "|Chattisgarh Circle|DivReportingCircle|Bastar Division|         Argatta B.O| 494122|        BO|    Delivery|    SUKMA|CHHATTISGARH|18.100000000000001|81.459999999999994|\n",
      "|Chattisgarh Circle|DivReportingCircle|Bastar Division|       Dubbatota B.O| 494122|        BO|    Delivery|    SUKMA|CHHATTISGARH|             18.21|             81.49|\n",
      "|Chattisgarh Circle|DivReportingCircle|Bastar Division|      Pongabheji B.O| 494122|        BO|    Delivery|    SUKMA|CHHATTISGARH|             18.34|81.480000000000004|\n",
      "|Chattisgarh Circle|DivReportingCircle|Bastar Division|         Durandarbha| 494122|        BO|    Delivery|    SUKMA|CHHATTISGARH|18.462410999999999|81.118620000000007|\n",
      "|Chattisgarh Circle|DivReportingCircle|Bastar Division|       Koshalnar B.O| 494441|        BO|    Delivery|DANTEWADA|CHHATTISGARH|81.290000000000006|             19.16|\n",
      "|Chattisgarh Circle|DivReportingCircle|Bastar Division|         Jawanga B.O| 494441|        BO|    Delivery|DANTEWADA|CHHATTISGARH|18.969999999999999|81.390000000000001|\n",
      "|Chattisgarh Circle|DivReportingCircle|Bastar Division|       HANDAWADA B.O| 494441|        BO|    Delivery|DANTEWADA|CHHATTISGARH|18.982099999999999|81.328999999999994|\n",
      "|Chattisgarh Circle|DivReportingCircle|Bastar Division|         Muchnar B.O| 494441|        BO|    Delivery|DANTEWADA|CHHATTISGARH|18.905000000000001|81.364000000000004|\n",
      "|Chattisgarh Circle|DivReportingCircle|Bastar Division|           NAGUL B.O| 494441|        BO|    Delivery|DANTEWADA|CHHATTISGARH|18.972000000000001|81.379000000000005|\n",
      "|Chattisgarh Circle|DivReportingCircle|Bastar Division|       TUMRIGUDA B.O| 494441|        BO|    Delivery|DANTEWADA|CHHATTISGARH|18.957000000000001|81.382000000000005|\n",
      "|Chattisgarh Circle|DivReportingCircle|Bastar Division|         Aranpur B.O| 494556|        BO|    Delivery|DANTEWADA|CHHATTISGARH|             18.48|             81.28|\n",
      "|Chattisgarh Circle|DivReportingCircle|Bastar Division|    Bangali Camp B.O| 494556|        BO|    Delivery|DANTEWADA|CHHATTISGARH|             18.69|             81.25|\n",
      "|Chattisgarh Circle|DivReportingCircle|Bastar Division|        Gumyapal B.O| 494556|        BO|    Delivery|DANTEWADA|CHHATTISGARH|             18.58|             81.24|\n",
      "|Chattisgarh Circle|DivReportingCircle|Bastar Division|   Kirandul R.S. B.O| 494556|        BO|    Delivery|DANTEWADA|CHHATTISGARH|             18.63|             81.25|\n",
      "|Chattisgarh Circle|DivReportingCircle|Bastar Division|              Nahadi| 494556|        BO|    Delivery|DANTEWADA|CHHATTISGARH|18.632999999999999|81.242999999999995|\n",
      "|Chattisgarh Circle|DivReportingCircle|Bastar Division|              Aalnar| 494556|        BO|    Delivery|DANTEWADA|CHHATTISGARH|19.710394000000001|81.295193999999995|\n",
      "|Chattisgarh Circle|DivReportingCircle|Bastar Division|           Banda B.O| 494114|        BO|    Delivery|   RAIPUR|CHHATTISGARH|          17.83989|          81.31397|\n",
      "|Chattisgarh Circle|DivReportingCircle|Bastar Division|         Badanji B.O| 494010|        BO|    Delivery|   RAIPUR|CHHATTISGARH|          19.92421|          81.48217|\n",
      "|Chattisgarh Circle|DivReportingCircle|Bastar Division|      Narayanpal B.O| 494010|        BO|    Delivery|   RAIPUR|CHHATTISGARH|             19.12|             81.44|\n",
      "|Chattisgarh Circle|DivReportingCircle|Bastar Division|      Silakjhodi B.O| 494010|        BO|    Delivery|   RAIPUR|CHHATTISGARH|19.131399999999999|81.727999999999994|\n",
      "|Chattisgarh Circle|DivReportingCircle|Bastar Division|Dudheda (Kottagud...| 494448|        BO|    Delivery|   RAIPUR|CHHATTISGARH|             18.82|             80.43|\n",
      "|Chattisgarh Circle|DivReportingCircle|Bastar Division|     Sankanpalli B.O| 494448|        BO|    Delivery|   RAIPUR|CHHATTISGARH|           18.6700|           80.4800|\n",
      "|Chattisgarh Circle|DivReportingCircle|Bastar Division|           MINKAPLLI| 494448|        BO|    Delivery|   RAIPUR|CHHATTISGARH|            18.689|80.519000000000005|\n",
      "|Chattisgarh Circle|DivReportingCircle|Bastar Division|        Nukanpal B.O| 494448|        BO|    Delivery|   RAIPUR|CHHATTISGARH|18.840800000000002|80.816199999999995|\n",
      "|Chattisgarh Circle|DivReportingCircle|Bastar Division|        Murkinar B.O| 494448|        BO|    Delivery|   RAIPUR|CHHATTISGARH|18.755500000000001|80.751999999999995|\n",
      "|Chattisgarh Circle|DivReportingCircle|Bastar Division|    Badelakhapal B.O| 494552|        BO|    Delivery|DANTEWADA|CHHATTISGARH|             18.75|81.489999999999995|\n",
      "|Chattisgarh Circle|DivReportingCircle|Bastar Division|         Gadapal B.O| 494552|        BO|    Delivery|DANTEWADA|CHHATTISGARH|          18.79000|          81.42000|\n",
      "|Chattisgarh Circle|DivReportingCircle|Bastar Division|           Pedka B.O| 494552|        BO|    Delivery|DANTEWADA|CHHATTISGARH|             18.52|81.280000000000001|\n",
      "|Chattisgarh Circle|DivReportingCircle|Bastar Division|        Tikanpal B.O| 494552|        BO|    Delivery|DANTEWADA|CHHATTISGARH|19.239999999999998|81.859999999999999|\n",
      "|Chattisgarh Circle|DivReportingCircle|Bastar Division|          Dhanikarka| 494552|        BO|    Delivery|DANTEWADA|CHHATTISGARH|            18.904|81.346000000000004|\n",
      "|Chattisgarh Circle|DivReportingCircle|Bastar Division|             Hitawar| 494552|        BO|    Delivery|DANTEWADA|CHHATTISGARH|18.902000000000001|81.338999999999999|\n",
      "|Chattisgarh Circle|DivReportingCircle|Bastar Division|          Pondum B.O| 494111|        BO|    Delivery|   RAIPUR|CHHATTISGARH|           18.8902|           81.4554|\n",
      "|Chattisgarh Circle|DivReportingCircle|Bastar Division|      Sonakuknar B.O| 494111|        BO|    Delivery|   RAIPUR|CHHATTISGARH|           18.5326|           81.5926|\n",
      "|Chattisgarh Circle|DivReportingCircle|Bastar Division|         Urmapal B.O| 494111|        BO|    Delivery|   RAIPUR|CHHATTISGARH|           18.5880|           81.8057|\n",
      "|Chattisgarh Circle|DivReportingCircle|Bastar Division|     Badekakloor B.O| 494442|        BO|    Delivery|   BASTAR|CHHATTISGARH|18.879999999999999|81.609999999999999|\n",
      "|Chattisgarh Circle|DivReportingCircle|Bastar Division|         Dilmili B.O| 494442|        BO|    Delivery|   BASTAR|CHHATTISGARH|18.989999999999998|81.739999999999995|\n",
      "|Chattisgarh Circle|DivReportingCircle|Bastar Division|     Telemarenga B.O| 494442|        BO|    Delivery|   BASTAR|CHHATTISGARH|19.039729999999999|81.933710000000005|\n",
      "|Chattisgarh Circle|DivReportingCircle|Bastar Division|            Alwa B.O| 494442|        BO|    Delivery|   BASTAR|CHHATTISGARH|19.014500000000002|81.849000000000004|\n",
      "|Chattisgarh Circle|DivReportingCircle|Bastar Division|  Bade Kilepal-2 B.O| 494442|        BO|    Delivery|   BASTAR|CHHATTISGARH|19.017499999999998|81.831999999999994|\n",
      "|Chattisgarh Circle|DivReportingCircle|Bastar Division|Burungpal(Naharmu...| 494442|        BO|    Delivery|   BASTAR|CHHATTISGARH|19.018999999999998|81.852999999999994|\n",
      "|Chattisgarh Circle|DivReportingCircle|Bastar Division|         Kamanar B.O| 494442|        BO|    Delivery|   BASTAR|CHHATTISGARH|           19.0184|81.858999999999995|\n",
      "|Chattisgarh Circle|DivReportingCircle|Bastar Division|        Keshloor B.O| 494442|        BO|    Delivery|   BASTAR|CHHATTISGARH|           19.0184|81.838999999999999|\n",
      "|Chattisgarh Circle|DivReportingCircle|Bastar Division|           Palwa B.O| 494442|        BO|    Delivery|   BASTAR|CHHATTISGARH|19.017600000000002|81.853999999999999|\n",
      "|Chattisgarh Circle|DivReportingCircle|Bastar Division|         Tirthum B.O| 494442|        BO|    Delivery|   BASTAR|CHHATTISGARH|19.019200000000001|81.853999999999999|\n",
      "|Chattisgarh Circle|DivReportingCircle|Bastar Division|     Chandangiri B.O| 494115|        BO|    Delivery|   RAIPUR|CHHATTISGARH|            20.093|            81.157|\n",
      "|Chattisgarh Circle|DivReportingCircle|Bastar Division|          Darbha B.O| 494115|        BO|    Delivery|   RAIPUR|CHHATTISGARH|           18.8591|           81.8677|\n",
      "|Chattisgarh Circle|DivReportingCircle|Bastar Division|      Hameergarh B.O| 494115|        BO|    Delivery|   RAIPUR|CHHATTISGARH|18.713100000000001|81.781499999999994|\n",
      "|Chattisgarh Circle|DivReportingCircle|Bastar Division|      Tirathgarh B.O| 494115|        BO|    Delivery|   RAIPUR|CHHATTISGARH|             18.92|             81.84|\n",
      "|Chattisgarh Circle|DivReportingCircle|Bastar Division|         Bodaras B.O| 494115|        BO|    Delivery|   RAIPUR|CHHATTISGARH|18.652000000000001|81.644999999999996|\n",
      "|Chattisgarh Circle|DivReportingCircle|Bastar Division|         Pedaras B.O| 494115|        BO|    Delivery|   RAIPUR|CHHATTISGARH|18.658999999999999|81.658000000000001|\n",
      "|Chattisgarh Circle|DivReportingCircle|Bastar Division|           Deori B.O| 494334|        BO|    Delivery|   RAIPUR|CHHATTISGARH|             20.31|             81.41|\n",
      "|Chattisgarh Circle|DivReportingCircle|Bastar Division|          Manpur B.O| 494334|        BO|    Delivery|   RAIPUR|CHHATTISGARH|             20.01|             82.64|\n",
      "|Chattisgarh Circle|DivReportingCircle|Bastar Division|         Pidapal B.O| 494334|        BO|    Delivery|   RAIPUR|CHHATTISGARH|           20.1951|           81.3569|\n",
      "|Chattisgarh Circle|DivReportingCircle|Bastar Division|         Puswada B.O| 494334|        BO|    Delivery|   RAIPUR|CHHATTISGARH|           20.2323|           81.5671|\n",
      "|Chattisgarh Circle|DivReportingCircle|Bastar Division|         Umradah B.O| 494334|        BO|    Delivery|   RAIPUR|CHHATTISGARH|           20.4052|           81.5428|\n",
      "|Chattisgarh Circle|DivReportingCircle|Bastar Division|           Amodi B.O| 494665|        BO|    Delivery|   KANKER|CHHATTISGARH|           21.3384|           82.0964|\n",
      "|Chattisgarh Circle|DivReportingCircle|Bastar Division|        Bondanar B.O| 494665|        BO|    Delivery|   KANKER|CHHATTISGARH|           20.0102|           81.1500|\n",
      "|Chattisgarh Circle|DivReportingCircle|Bastar Division|        Chargaon B.O| 494665|        BO|    Delivery|   KANKER|CHHATTISGARH|          20.43817|          82.00188|\n",
      "|Chattisgarh Circle|DivReportingCircle|Bastar Division|         Sarandi B.O| 494665|        BO|    Delivery|   KANKER|CHHATTISGARH|           19.9782|           81.2082|\n",
      "|Chattisgarh Circle|DivReportingCircle|Bastar Division|          Amagaon BO| 494665|        BO|    Delivery|   KANKER|CHHATTISGARH|           20.0518|80.549120000000002|\n",
      "|Chattisgarh Circle|DivReportingCircle|Bastar Division|         Bulawand BO| 494665|        BO|    Delivery|   KANKER|CHHATTISGARH|21.051100000000002|80.154809999999998|\n",
      "|Chattisgarh Circle|DivReportingCircle|Bastar Division| Mangta Salhebhat BO| 494665|        BO|    Delivery|   KANKER|CHHATTISGARH|20.054600000000001|80.216449999999995|\n",
      "|Chattisgarh Circle|DivReportingCircle|Bastar Division|       Rengawahi B.O| 494777|        BO|    Delivery|   KANKER|CHHATTISGARH|19.809999999999999|80.659999999999997|\n",
      "|Chattisgarh Circle|DivReportingCircle|Bastar Division|       Vikaspalli BO| 494777|        BO|    Delivery|   KANKER|CHHATTISGARH|19.052399999999999|18.547999999999998|\n",
      "|Chattisgarh Circle|DivReportingCircle|Bastar Division|           Kewti B.O| 494669|        BO|    Delivery|   KANKER|CHHATTISGARH|             20.21|             81.10|\n",
      "|Chattisgarh Circle|DivReportingCircle|Bastar Division|          Chougel BO| 494669|        BO|    Delivery|   KANKER|CHHATTISGARH|19.181100000000001|81.199119999999994|\n",
      "|Chattisgarh Circle|DivReportingCircle|Bastar Division|           Godpal BO| 494669|        BO|    Delivery|   KANKER|CHHATTISGARH|19.185400000000001|          81.05489|\n",
      "|Chattisgarh Circle|DivReportingCircle|Bastar Division|            Konde BO| 494669|        BO|    Delivery|   KANKER|CHHATTISGARH|19.549199999999999|81.025480000000002|\n",
      "|Chattisgarh Circle|DivReportingCircle|Bastar Division|             Hulghat| 494669|        BO|    Delivery|   KANKER|CHHATTISGARH|20.160855999999999|80.802610000000001|\n",
      "|Chattisgarh Circle|DivReportingCircle|Bastar Division|            Latmarka| 494669|        BO|    Delivery|   KANKER|CHHATTISGARH|20.097902999999999|80.853149000000002|\n",
      "|Chattisgarh Circle|DivReportingCircle|Bastar Division|         Junwani B.O| 494334|        BO|    Delivery|   RAIPUR|CHHATTISGARH|             21.21|             81.31|\n",
      "|Chattisgarh Circle|DivReportingCircle|Bastar Division|         Badgaon B.O| 494771|        BO|    Delivery|   KANKER|CHHATTISGARH|20.149999999999999|80.790000000000006|\n",
      "|Chattisgarh Circle|DivReportingCircle|Bastar Division|           Donde B.O| 494771|        BO|    Delivery|   KANKER|CHHATTISGARH|20.059999999999999|80.670000000000002|\n",
      "|Chattisgarh Circle|DivReportingCircle|Bastar Division|        Gurwandi B.O| 494771|        BO|    Delivery|   KANKER|CHHATTISGARH|             20.16|80.739999999999995|\n",
      "|Chattisgarh Circle|DivReportingCircle|Bastar Division|        Mandagaon BO| 494771|        BO|    Delivery|   KANKER|CHHATTISGARH|20.154499999999999|80.055400000000006|\n",
      "|Chattisgarh Circle|DivReportingCircle|Bastar Division|        Mangahoor BO| 494771|        BO|    Delivery|   KANKER|CHHATTISGARH|20.154499999999999|80.215400000000002|\n",
      "+------------------+------------------+---------------+--------------------+-------+----------+------------+---------+------------+------------------+------------------+\n",
      "only showing top 100 rows\n",
      "\n"
     ]
    }
   ],
   "source": [
    "spark.read.parquet(\"india_zipcodes_parquet.parquet\").show(100)\n"
   ]
  }
 ],
 "metadata": {
  "kernelspec": {
   "display_name": ".venv",
   "language": "python",
   "name": "python3"
  },
  "language_info": {
   "codemirror_mode": {
    "name": "ipython",
    "version": 3
   },
   "file_extension": ".py",
   "mimetype": "text/x-python",
   "name": "python",
   "nbconvert_exporter": "python",
   "pygments_lexer": "ipython3",
   "version": "3.12.3"
  }
 },
 "nbformat": 4,
 "nbformat_minor": 2
}
